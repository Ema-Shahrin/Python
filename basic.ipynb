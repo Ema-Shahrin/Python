{
 "cells": [
  {
   "cell_type": "code",
   "execution_count": 1,
   "id": "e7d5e57a-896d-446a-80c6-7f75110a2808",
   "metadata": {},
   "outputs": [
    {
     "name": "stdout",
     "output_type": "stream",
     "text": [
      "Hello, World!\n"
     ]
    }
   ],
   "source": [
    "print(\"Hello, World!\")\n"
   ]
  },
  {
   "cell_type": "code",
   "execution_count": 3,
   "id": "cccbbba5-90a2-4d6c-bd0d-2e1b5467da73",
   "metadata": {},
   "outputs": [
    {
     "data": {
      "text/plain": [
       "3"
      ]
     },
     "execution_count": 3,
     "metadata": {},
     "output_type": "execute_result"
    }
   ],
   "source": [
    "1+2\n"
   ]
  },
  {
   "cell_type": "code",
   "execution_count": 1,
   "id": "1d23cd92-0d2d-4fe9-941e-ca4d7a291fea",
   "metadata": {},
   "outputs": [
    {
     "data": {
      "text/plain": [
       "float"
      ]
     },
     "execution_count": 1,
     "metadata": {},
     "output_type": "execute_result"
    }
   ],
   "source": [
    "type(2.3)\n"
   ]
  },
  {
   "cell_type": "code",
   "execution_count": 3,
   "id": "1f80d07a-65a7-4d4d-aea6-6cbee9074312",
   "metadata": {},
   "outputs": [
    {
     "data": {
      "text/plain": [
       "str"
      ]
     },
     "execution_count": 3,
     "metadata": {},
     "output_type": "execute_result"
    }
   ],
   "source": [
    "type(\"ema\")"
   ]
  },
  {
   "cell_type": "code",
   "execution_count": 5,
   "id": "aa7cbf95-a29d-4e45-87a4-65a7af507d3c",
   "metadata": {},
   "outputs": [],
   "source": [
    "std = \"EMA\""
   ]
  },
  {
   "cell_type": "code",
   "execution_count": 11,
   "id": "d00fc194-e2b4-44e8-a084-2e475c592892",
   "metadata": {},
   "outputs": [
    {
     "name": "stdout",
     "output_type": "stream",
     "text": [
      "EMA\n"
     ]
    }
   ],
   "source": [
    "print(std )"
   ]
  },
  {
   "cell_type": "code",
   "execution_count": 13,
   "id": "ae6758ae-2bd6-40f7-9f4e-d6f8490659ea",
   "metadata": {},
   "outputs": [],
   "source": [
    "a,b,c = 1,2,3"
   ]
  },
  {
   "cell_type": "code",
   "execution_count": 18,
   "id": "561177b6-a2b7-47a9-bdd3-494975c4bd82",
   "metadata": {},
   "outputs": [
    {
     "name": "stdout",
     "output_type": "stream",
     "text": [
      "1\n",
      "2\n"
     ]
    }
   ],
   "source": [
    "print(a)\n",
    "print(b)"
   ]
  },
  {
   "cell_type": "raw",
   "id": "817ca504-ae47-4ac9-a731-73000b702baa",
   "metadata": {},
   "source": [
    "print(b)\n",
    "print(c)"
   ]
  },
  {
   "cell_type": "code",
   "execution_count": 61,
   "id": "d993fb41-485f-459e-bdb6-b1979d92ec2b",
   "metadata": {},
   "outputs": [
    {
     "name": "stdin",
     "output_type": "stream",
     "text": [
      "Enter:  3\n",
      "Enter:  3\n"
     ]
    },
    {
     "name": "stdout",
     "output_type": "stream",
     "text": [
      "6\n"
     ]
    }
   ],
   "source": [
    "n1 = int(input(\"Enter: \"))\n",
    "n2 = int(input(\"Enter: \"))\n",
    "print(n1+n2)"
   ]
  },
  {
   "cell_type": "code",
   "execution_count": 63,
   "id": "67d8eda6-3319-4547-925d-cc4969199296",
   "metadata": {},
   "outputs": [
    {
     "name": "stdout",
     "output_type": "stream",
     "text": [
      "{1, 2, 3, 45}\n"
     ]
    }
   ],
   "source": [
    "mset = {1,2,2,2,1,3,45,3}\n",
    "print(mset)"
   ]
  },
  {
   "cell_type": "code",
   "execution_count": 69,
   "id": "34c8a0a4-93d9-43eb-a4b7-79c4b98c51b6",
   "metadata": {},
   "outputs": [
    {
     "data": {
      "text/plain": [
       "list"
      ]
     },
     "execution_count": 69,
     "metadata": {},
     "output_type": "execute_result"
    }
   ],
   "source": [
    "lst = [1,2,3.6,\"ema\"]\n",
    "type(lst)"
   ]
  },
  {
   "cell_type": "code",
   "execution_count": 75,
   "id": "8d382dd2-d799-4827-8be0-482911da8858",
   "metadata": {},
   "outputs": [
    {
     "data": {
      "text/plain": [
       "tuple"
      ]
     },
     "execution_count": 75,
     "metadata": {},
     "output_type": "execute_result"
    }
   ],
   "source": [
    "tupls = (1,3.4,2,2,2,\"slow\")\n",
    "type(tupls)"
   ]
  },
  {
   "cell_type": "code",
   "execution_count": 77,
   "id": "1d390624-007b-41bd-b987-67069bf1f367",
   "metadata": {},
   "outputs": [],
   "source": [
    "tupls = set(tupls)"
   ]
  },
  {
   "cell_type": "code",
   "execution_count": 79,
   "id": "796c09b4-4ff0-44bb-bd20-9abab183a66e",
   "metadata": {},
   "outputs": [
    {
     "name": "stdout",
     "output_type": "stream",
     "text": [
      "{'slow', 1, 2, 3.4}\n"
     ]
    },
    {
     "data": {
      "text/plain": [
       "set"
      ]
     },
     "execution_count": 79,
     "metadata": {},
     "output_type": "execute_result"
    }
   ],
   "source": [
    "print(tupls)\n",
    "type(tupls)"
   ]
  },
  {
   "cell_type": "code",
   "execution_count": 81,
   "id": "2378554a-6c1a-4de9-9462-c85644b19195",
   "metadata": {},
   "outputs": [
    {
     "name": "stdin",
     "output_type": "stream",
     "text": [
      "Enter a:  5\n",
      "Enter b:  3\n"
     ]
    },
    {
     "name": "stdout",
     "output_type": "stream",
     "text": [
      "a is greater\n"
     ]
    }
   ],
   "source": [
    "a = int(input('Enter a: '))\n",
    "b = int(input('Enter b: '))\n",
    "if(a>b):\n",
    "    print('a is greater')\n",
    "else:\n",
    "    print('b is greater')"
   ]
  },
  {
   "cell_type": "code",
   "execution_count": null,
   "id": "59022da8-9b3f-4e93-a85e-e8232cca7427",
   "metadata": {},
   "outputs": [],
   "source": []
  }
 ],
 "metadata": {
  "kernelspec": {
   "display_name": "Python 3 (ipykernel)",
   "language": "python",
   "name": "python3"
  },
  "language_info": {
   "codemirror_mode": {
    "name": "ipython",
    "version": 3
   },
   "file_extension": ".py",
   "mimetype": "text/x-python",
   "name": "python",
   "nbconvert_exporter": "python",
   "pygments_lexer": "ipython3",
   "version": "3.12.7"
  }
 },
 "nbformat": 4,
 "nbformat_minor": 5
}
