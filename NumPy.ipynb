{
 "cells": [
  {
   "cell_type": "code",
   "execution_count": 1,
   "id": "d62ef054-24df-492e-9c6b-d471e15437bb",
   "metadata": {},
   "outputs": [],
   "source": [
    "import numpy as np"
   ]
  },
  {
   "cell_type": "markdown",
   "id": "ba09e9d7-ea63-4848-a7f0-0b42f87c61a6",
   "metadata": {},
   "source": [
    "List vs Numpy - time taken"
   ]
  },
  {
   "cell_type": "code",
   "execution_count": 3,
   "id": "4a5bb0b9-8bbf-43ea-9614-82f5aa56fc70",
   "metadata": {},
   "outputs": [],
   "source": [
    "from time import process_time"
   ]
  },
  {
   "cell_type": "markdown",
   "id": "defb04b3-6c74-4627-b99c-b60862590059",
   "metadata": {},
   "source": [
    "time taken by a List"
   ]
  },
  {
   "cell_type": "code",
   "execution_count": 5,
   "id": "712096a5-8b63-49dd-9343-ce60ef920d86",
   "metadata": {},
   "outputs": [
    {
     "name": "stdout",
     "output_type": "stream",
     "text": [
      "0.015625\n"
     ]
    }
   ],
   "source": [
    "lst = [i for i in range (100000)]\n",
    "\n",
    "start_time = process_time()\n",
    "\n",
    "lst = [i+5 for i in lst]\n",
    "\n",
    "end_time = process_time()\n",
    "\n",
    "print(end_time - start_time)\n"
   ]
  },
  {
   "cell_type": "code",
   "execution_count": 6,
   "id": "62bfb0d3-a642-46f6-904a-0c7c2e7a06d3",
   "metadata": {},
   "outputs": [],
   "source": [
    "from time import process_time"
   ]
  },
  {
   "cell_type": "code",
   "execution_count": 7,
   "id": "9825f566-4646-41cc-a130-07005506c8a6",
   "metadata": {},
   "outputs": [
    {
     "name": "stdout",
     "output_type": "stream",
     "text": [
      "0.0\n"
     ]
    }
   ],
   "source": [
    "np_ara = np.array([i for i in range (100000)])\n",
    "\n",
    "start_time = process_time()\n",
    "\n",
    "np_ara += 5\n",
    "\n",
    "end_time = process_time()\n",
    "\n",
    "print(end_time - start_time)"
   ]
  },
  {
   "cell_type": "markdown",
   "id": "c2709e14-baea-48d2-a6bb-7f8c745f4c61",
   "metadata": {},
   "source": [
    "Numpy arrays"
   ]
  },
  {
   "cell_type": "code",
   "execution_count": 9,
   "id": "cffec5f6-b40d-40d9-95b5-658eadeafadf",
   "metadata": {},
   "outputs": [
    {
     "name": "stdout",
     "output_type": "stream",
     "text": [
      "[1 2 3 4 5]\n"
     ]
    },
    {
     "data": {
      "text/plain": [
       "numpy.ndarray"
      ]
     },
     "execution_count": 9,
     "metadata": {},
     "output_type": "execute_result"
    }
   ],
   "source": [
    "np_arr = np.array([1,2,3,4,5])\n",
    "print(np_arr)\n",
    "type(np_arr)\n"
   ]
  },
  {
   "cell_type": "code",
   "execution_count": 10,
   "id": "fcc58cb3-063e-401a-b618-2b382521db05",
   "metadata": {},
   "outputs": [
    {
     "data": {
      "text/plain": [
       "5"
      ]
     },
     "execution_count": 10,
     "metadata": {},
     "output_type": "execute_result"
    }
   ],
   "source": [
    "len(np_arr)"
   ]
  },
  {
   "cell_type": "code",
   "execution_count": 11,
   "id": "6973aaac-4f20-409d-bd61-56982463f8b0",
   "metadata": {},
   "outputs": [
    {
     "data": {
      "text/plain": [
       "(5,)"
      ]
     },
     "execution_count": 11,
     "metadata": {},
     "output_type": "execute_result"
    }
   ],
   "source": [
    "np_arr.shape"
   ]
  },
  {
   "cell_type": "code",
   "execution_count": 12,
   "id": "d2e9ef1f-8039-40ec-b0a8-57b52af8c532",
   "metadata": {},
   "outputs": [
    {
     "name": "stdout",
     "output_type": "stream",
     "text": [
      "[[1 2 3]\n",
      " [4 5 6]]\n",
      "\n",
      "(row, col)\n"
     ]
    },
    {
     "data": {
      "text/plain": [
       "(2, 3)"
      ]
     },
     "execution_count": 12,
     "metadata": {},
     "output_type": "execute_result"
    }
   ],
   "source": [
    "np_arr2 = np.array([(1,2,3),(4,5,6)])\n",
    "print(np_arr2)\n",
    "\n",
    "print(\"\\n(row, col)\")\n",
    "np_arr2.shape\n"
   ]
  },
  {
   "cell_type": "code",
   "execution_count": 13,
   "id": "aeff9200-b214-4081-988b-7a8c7ba17ed2",
   "metadata": {},
   "outputs": [
    {
     "name": "stdout",
     "output_type": "stream",
     "text": [
      "[['1' '2' '3']\n",
      " ['4' '5' '6']]\n"
     ]
    }
   ],
   "source": [
    "np_arr3 = np.array([(1,2,3),(4,5,6)],dtype = str) #datatype can be declared\n",
    "print(np_arr3)\n"
   ]
  },
  {
   "cell_type": "markdown",
   "id": "d37a2f8b-35c5-4bf2-add9-35b9e3db175c",
   "metadata": {},
   "source": [
    "Initial placeholder in numpy arrays"
   ]
  },
  {
   "cell_type": "code",
   "execution_count": 15,
   "id": "f68833b6-90ab-44dc-95e8-7636835c670e",
   "metadata": {},
   "outputs": [
    {
     "name": "stdout",
     "output_type": "stream",
     "text": [
      "[[0. 0. 0. 0. 0.]\n",
      " [0. 0. 0. 0. 0.]\n",
      " [0. 0. 0. 0. 0.]\n",
      " [0. 0. 0. 0. 0.]]\n"
     ]
    }
   ],
   "source": [
    "#create numpy arrays of zero\n",
    "\n",
    "z = np.zeros((4,5))\n",
    "print(z)\n"
   ]
  },
  {
   "cell_type": "code",
   "execution_count": 16,
   "id": "a611d1a0-c9b6-4e26-9d13-e0ab64bda4e7",
   "metadata": {},
   "outputs": [
    {
     "name": "stdout",
     "output_type": "stream",
     "text": [
      "[[5 5 5 5]\n",
      " [5 5 5 5]\n",
      " [5 5 5 5]\n",
      " [5 5 5 5]\n",
      " [5 5 5 5]]\n"
     ]
    }
   ],
   "source": [
    "#array with specific value\n",
    "\n",
    "x = np.full (( 5, 4), 5 )\n",
    "print (x)\n"
   ]
  },
  {
   "cell_type": "code",
   "execution_count": 17,
   "id": "ee938a0d-eddd-462c-a239-ae2eaf770405",
   "metadata": {},
   "outputs": [
    {
     "name": "stdout",
     "output_type": "stream",
     "text": [
      "[[1. 0. 0. 0. 0.]\n",
      " [0. 1. 0. 0. 0.]\n",
      " [0. 0. 1. 0. 0.]\n",
      " [0. 0. 0. 1. 0.]\n",
      " [0. 0. 0. 0. 1.]]\n"
     ]
    }
   ],
   "source": [
    "#create an identity matrix\n",
    "\n",
    "iden = np.eye( 5 )\n",
    "print( iden )"
   ]
  },
  {
   "cell_type": "code",
   "execution_count": 18,
   "id": "da30aa55-4874-473f-aef8-6703aff0c983",
   "metadata": {},
   "outputs": [
    {
     "name": "stdout",
     "output_type": "stream",
     "text": [
      "[[0.8802574  0.40840838 0.11465934 0.89327789]\n",
      " [0.90541951 0.5249549  0.33552431 0.34017916]\n",
      " [0.42781458 0.38701295 0.83504656 0.89980822]]\n"
     ]
    }
   ],
   "source": [
    "#create an numpy array with random values\n",
    "\n",
    "rndom = np.random.random(( 3, 4 ) )\n",
    "print ( rndom )\n"
   ]
  },
  {
   "cell_type": "code",
   "execution_count": 19,
   "id": "c691e058-ddd1-4b05-bcf4-248a65aa85f6",
   "metadata": {},
   "outputs": [
    {
     "name": "stdout",
     "output_type": "stream",
     "text": [
      "[[64 49 32 52]\n",
      " [93 71 18 67]\n",
      " [48 81 26 80]]\n"
     ]
    }
   ],
   "source": [
    "#create an numpy array with random values within specific range\n",
    "#np.random.randint( starting num, ending num, (row,col))\n",
    "\n",
    "rm = np.random.randint( 10, 100, ( 3, 4 ) )\n",
    "print( rm )\n"
   ]
  },
  {
   "cell_type": "code",
   "execution_count": 48,
   "id": "431d7e9d-75cd-48bf-986e-312ccf838dc8",
   "metadata": {},
   "outputs": [
    {
     "name": "stdout",
     "output_type": "stream",
     "text": [
      "[10. 20. 30. 40. 50.]\n",
      "[10. 30. 50.]\n"
     ]
    }
   ],
   "source": [
    "#array of evenly spaced values...the endpoint is included(its indicate size)\n",
    "\n",
    "aray = np.linspace ( 10, 50, 5) # 5 ta number same space pore pore\n",
    "print(aray)\n",
    "\n",
    "aray1 = np.linspace ( 10, 50, 3)\n",
    "print(aray1)"
   ]
  },
  {
   "cell_type": "code",
   "execution_count": 42,
   "id": "1d38491d-7312-4f19-a5a4-f358990c063a",
   "metadata": {},
   "outputs": [
    {
     "name": "stdout",
     "output_type": "stream",
     "text": [
      "[10 15 20 25 30 35 40 45]\n"
     ]
    }
   ],
   "source": [
    "#Generates an array with a specified range and step size,The stop value is not included.\n",
    "\n",
    "ary = np.arange ( 10, 50, 5) # 5 ghor pore pore\n",
    "print(ary) "
   ]
  },
  {
   "cell_type": "code",
   "execution_count": 54,
   "id": "1bddae8b-f13c-4c1c-b28a-3df0af53d98d",
   "metadata": {},
   "outputs": [
    {
     "name": "stdout",
     "output_type": "stream",
     "text": [
      "[10 20 30 35 35 40 50]\n"
     ]
    },
    {
     "data": {
      "text/plain": [
       "numpy.ndarray"
      ]
     },
     "execution_count": 54,
     "metadata": {},
     "output_type": "execute_result"
    }
   ],
   "source": [
    "#convert a list to numpy array\n",
    "\n",
    "lst1 = [ 10, 20, 30, 35, 35, 40, 50 ]\n",
    "np_ar = np.asarray(lst1)\n",
    "print(np_ar)\n",
    "type(np_ar)"
   ]
  },
  {
   "cell_type": "markdown",
   "id": "e336b7d5-a81a-4135-8387-7cb98675f0d1",
   "metadata": {},
   "source": [
    "Analyzing a numpy array"
   ]
  },
  {
   "cell_type": "code",
   "execution_count": 74,
   "id": "2f66bb15-0b6a-4999-83f2-ad03eaa776dd",
   "metadata": {},
   "outputs": [
    {
     "name": "stdout",
     "output_type": "stream",
     "text": [
      "[1 2 3 4 5]\n",
      "(5,)\n",
      "1\n",
      "5\n"
     ]
    }
   ],
   "source": [
    "s = np.array([1,2,3,4,5])\n",
    "print(s)\n",
    "print(s.shape)\n",
    "print(s.ndim)\n",
    "print(s.size)"
   ]
  },
  {
   "cell_type": "code",
   "execution_count": 96,
   "id": "2ed35df3-6544-4109-8201-9d709cb85cbe",
   "metadata": {},
   "outputs": [
    {
     "name": "stdout",
     "output_type": "stream",
     "text": [
      "[[ 1  2  3  4  5]\n",
      " [ 6  7  8  9 10]\n",
      " [11 12 13 14 15]]\n",
      "\n",
      "\n",
      "(row and column) =  (3, 5)\n",
      "dimension of matrix:  2\n",
      "size of matrix:  15\n",
      "data type of the array: int32\n"
     ]
    }
   ],
   "source": [
    "matrx = np.array([(1,2,3,4,5),(6,7,8,9,10),(11,12,13,14,15)])\n",
    "print(matrx)\n",
    "print(\"\\n\")\n",
    "print('(row and column) = ',matrx.shape)\n",
    "print('dimension of matrix: ',matrx.ndim)\n",
    "print('size of matrix: ',matrx.size)\n",
    "print('data type of the array:',matrx.dtype)"
   ]
  },
  {
   "cell_type": "markdown",
   "id": "547bdf2b-e400-4c3e-91a2-570eb213fad2",
   "metadata": {},
   "source": [
    "Mathmetical operation on a Numpy array"
   ]
  },
  {
   "cell_type": "code",
   "execution_count": 98,
   "id": "8ec176e8-187c-4646-99b1-85e80a85fd76",
   "metadata": {},
   "outputs": [
    {
     "name": "stdout",
     "output_type": "stream",
     "text": [
      "[4, 5, 6, 7, 0, 8, 9, 10, 11]\n"
     ]
    }
   ],
   "source": [
    "list3 = [4,5,6,7,0]\n",
    "list4 = [8,9,10,11]\n",
    "print(list3 + list4) #concatenate or joins list\n"
   ]
  },
  {
   "cell_type": "code",
   "execution_count": 104,
   "id": "8f3973f3-9938-48aa-9fcb-ea7b26fe9c99",
   "metadata": {},
   "outputs": [
    {
     "name": "stdout",
     "output_type": "stream",
     "text": [
      "[[ 1  9 12]\n",
      " [ 8  6 10]\n",
      " [ 1 19  4]] \n",
      "\n",
      "[[22 28 27]\n",
      " [28 26 21]\n",
      " [22 24 20]]\n"
     ]
    }
   ],
   "source": [
    "#\n",
    "\n",
    "X = np.random.randint( 0, 20, (3,3))\n",
    "Y = np.random.randint( 20, 30, (3,3))\n",
    "\n",
    "print(X,'\\n')\n",
    "print(Y)"
   ]
  },
  {
   "cell_type": "code",
   "execution_count": 118,
   "id": "c0f95250-2ee5-4694-8fcf-239d6cdf52da",
   "metadata": {},
   "outputs": [
    {
     "name": "stdout",
     "output_type": "stream",
     "text": [
      "adding the matrix\n",
      "[[23 37 39]\n",
      " [36 32 31]\n",
      " [23 43 24]]\n",
      "adding the matrix using np\n",
      "[[23 37 39]\n",
      " [36 32 31]\n",
      " [23 43 24]]\n"
     ]
    }
   ],
   "source": [
    "print('adding the matrix')\n",
    "print(X+Y)\n",
    "\n",
    "print('adding the matrix using np')\n",
    "print(np.add(X,Y))"
   ]
  },
  {
   "cell_type": "code",
   "execution_count": 122,
   "id": "532a211a-ff1b-4392-a62b-a2a3b8c852c0",
   "metadata": {},
   "outputs": [
    {
     "name": "stdout",
     "output_type": "stream",
     "text": [
      "Subtracting the matrix\n",
      "[[-21 -19 -15]\n",
      " [-20 -20 -11]\n",
      " [-21  -5 -16]]\n",
      "subtracting the matrix using np\n",
      "[[-21 -19 -15]\n",
      " [-20 -20 -11]\n",
      " [-21  -5 -16]]\n"
     ]
    }
   ],
   "source": [
    "print('Subtracting the matrix')\n",
    "print(X-Y)\n",
    "\n",
    "print('subtracting the matrix using np')\n",
    "print(np.subtract(X,Y))"
   ]
  },
  {
   "cell_type": "code",
   "execution_count": 134,
   "id": "e1d1c41b-a83a-46d3-82f4-7a1110c2af71",
   "metadata": {},
   "outputs": [
    {
     "name": "stdout",
     "output_type": "stream",
     "text": [
      "Multiplying the matrix\n",
      "[[ 22 252 324]\n",
      " [224 156 210]\n",
      " [ 22 456  80]]\n",
      "Multiplying the matrix using np\n",
      "[[ 22 252 324]\n",
      " [224 156 210]\n",
      " [ 22 456  80]]\n"
     ]
    }
   ],
   "source": [
    "print('Multiplying the matrix')\n",
    "print(X*Y)\n",
    "\n",
    "print('Multiplying the matrix using np')\n",
    "print(np.multiply(X,Y))"
   ]
  },
  {
   "cell_type": "code",
   "execution_count": 136,
   "id": "c5843f28-5c05-41e1-9f60-76cc61926d35",
   "metadata": {},
   "outputs": [
    {
     "name": "stdout",
     "output_type": "stream",
     "text": [
      "Division the matrix\n",
      "[[0.04545455 0.32142857 0.44444444]\n",
      " [0.28571429 0.23076923 0.47619048]\n",
      " [0.04545455 0.79166667 0.2       ]]\n",
      "\n",
      "divide the matrix using np\n",
      "[[0.04545455 0.32142857 0.44444444]\n",
      " [0.28571429 0.23076923 0.47619048]\n",
      " [0.04545455 0.79166667 0.2       ]]\n"
     ]
    }
   ],
   "source": [
    "print('Division the matrix')\n",
    "print(X/Y)\n",
    "\n",
    "print('\\ndivide the matrix using np')\n",
    "print(np.divide(X,Y))"
   ]
  },
  {
   "cell_type": "markdown",
   "id": "8a866eb6-8cdd-4445-9604-ac1cf75aa9ce",
   "metadata": {},
   "source": [
    "Array Manupulation"
   ]
  },
  {
   "cell_type": "code",
   "execution_count": 141,
   "id": "3dbf29d6-ad6c-4ace-b569-186e036b4f73",
   "metadata": {},
   "outputs": [
    {
     "name": "stdout",
     "output_type": "stream",
     "text": [
      "[[0 1 7]\n",
      " [4 4 9]]\n",
      "(row,col)= (2, 3)\n"
     ]
    }
   ],
   "source": [
    "manp = np.random.randint(0,10,(2,3))\n",
    "print(manp)\n",
    "print('(row,col)=',manp.shape)"
   ]
  },
  {
   "cell_type": "code",
   "execution_count": 145,
   "id": "9d98c944-1c44-47de-8ab9-f84a08385906",
   "metadata": {},
   "outputs": [
    {
     "name": "stdout",
     "output_type": "stream",
     "text": [
      "[[0 4]\n",
      " [1 4]\n",
      " [7 9]]\n",
      "(row,col)= (3, 2)\n"
     ]
    }
   ],
   "source": [
    "#transpose\n",
    "\n",
    "trans  = np.transpose(manp)\n",
    "print(trans)\n",
    "print('(row,col)=',trans.shape)"
   ]
  },
  {
   "cell_type": "code",
   "execution_count": 147,
   "id": "34f16346-544a-4abb-ba62-f1ca3a63e773",
   "metadata": {},
   "outputs": [
    {
     "name": "stdout",
     "output_type": "stream",
     "text": [
      "[[0 4]\n",
      " [1 4]\n",
      " [7 9]]\n",
      "(row,col)= (3, 2)\n"
     ]
    }
   ],
   "source": [
    "trans2  = manp.T\n",
    "print(trans2)\n",
    "print('(row,col)=',trans2.shape)"
   ]
  },
  {
   "cell_type": "code",
   "execution_count": 151,
   "id": "df3c630b-e3ec-42f8-b2bb-b117925d513b",
   "metadata": {},
   "outputs": [
    {
     "name": "stdout",
     "output_type": "stream",
     "text": [
      "[[8 2 7]\n",
      " [6 3 7]]\n",
      "(row,col)= (2, 3)\n"
     ]
    }
   ],
   "source": [
    "# Reshaping an array\n",
    "d = np.random.randint(2,9,(2,3))\n",
    "print(d)\n",
    "print('(row,col)=',d.shape)"
   ]
  },
  {
   "cell_type": "code",
   "execution_count": 153,
   "id": "64d7ac17-ca82-4735-a3fc-aaacaa4fd9e8",
   "metadata": {},
   "outputs": [
    {
     "name": "stdout",
     "output_type": "stream",
     "text": [
      "[[8 2]\n",
      " [7 6]\n",
      " [3 7]]\n",
      "(row,col)= (3, 2)\n"
     ]
    }
   ],
   "source": [
    "e = d.reshape(3,2)\n",
    "print(e)\n",
    "print('(row,col)=',e.shape)"
   ]
  },
  {
   "cell_type": "code",
   "execution_count": null,
   "id": "16c03a29-b7e9-4df9-ad43-199f262ccbc3",
   "metadata": {},
   "outputs": [],
   "source": []
  }
 ],
 "metadata": {
  "kernelspec": {
   "display_name": "Python 3 (ipykernel)",
   "language": "python",
   "name": "python3"
  },
  "language_info": {
   "codemirror_mode": {
    "name": "ipython",
    "version": 3
   },
   "file_extension": ".py",
   "mimetype": "text/x-python",
   "name": "python",
   "nbconvert_exporter": "python",
   "pygments_lexer": "ipython3",
   "version": "3.12.7"
  }
 },
 "nbformat": 4,
 "nbformat_minor": 5
}
